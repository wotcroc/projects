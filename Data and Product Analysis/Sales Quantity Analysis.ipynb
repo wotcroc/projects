{
 "cells": [
  {
   "cell_type": "markdown",
   "id": "2a92d3c8",
   "metadata": {},
   "source": [
    "### Description\n",
    "This is an analysis of a fictional company. The dataset is provided in the 'data.csv' file, which has 5 columns that represent date ('Дата'), warehouse ('Склад'), counterparty ('Контрагент'), product names ('Номенклатура') and sales quantity ('Количество'). The goal of this analysis is looking at trends, anomalies and some specific cases."
   ]
  },
  {
   "cell_type": "code",
   "execution_count": 1,
   "id": "d15ce546",
   "metadata": {},
   "outputs": [],
   "source": [
    "# Importing libraries\n",
    "import pandas as pd\n",
    "import numpy as np\n",
    "import matplotlib.pyplot as plt\n",
    "import seaborn as sns"
   ]
  },
  {
   "cell_type": "code",
   "execution_count": 2,
   "id": "6638ea08",
   "metadata": {},
   "outputs": [
    {
     "name": "stdout",
     "output_type": "stream",
     "text": [
      "         Дата  Склад Контрагент Номенклатура  Количество\n",
      "0  2018-01-04      1  address_0    product_0           4\n",
      "1  2018-01-04      1  address_0    product_1           4\n",
      "2  2018-01-04      1  address_0    product_2           5\n",
      "3  2018-01-04      1  address_0    product_3          10\n",
      "4  2018-01-04      1  address_0    product_4           2\n"
     ]
    }
   ],
   "source": [
    "# Reading data\n",
    "df = pd.read_csv('data.csv')\n",
    "\n",
    "# Printing out the first few rows\n",
    "print(df.head())"
   ]
  },
  {
   "cell_type": "markdown",
   "id": "a8e1b306",
   "metadata": {},
   "source": [
    "Checking the column formats"
   ]
  },
  {
   "cell_type": "code",
   "execution_count": 3,
   "id": "0db7a439",
   "metadata": {},
   "outputs": [
    {
     "name": "stdout",
     "output_type": "stream",
     "text": [
      "<class 'pandas.core.frame.DataFrame'>\n",
      "RangeIndex: 301355 entries, 0 to 301354\n",
      "Data columns (total 5 columns):\n",
      " #   Column        Non-Null Count   Dtype \n",
      "---  ------        --------------   ----- \n",
      " 0   Дата          301355 non-null  object\n",
      " 1   Склад         301355 non-null  int64 \n",
      " 2   Контрагент    301355 non-null  object\n",
      " 3   Номенклатура  301355 non-null  object\n",
      " 4   Количество    301355 non-null  int64 \n",
      "dtypes: int64(2), object(3)\n",
      "memory usage: 11.5+ MB\n"
     ]
    }
   ],
   "source": [
    "df.info()"
   ]
  },
  {
   "cell_type": "markdown",
   "id": "ab427988",
   "metadata": {},
   "source": [
    "Changing the date column into the correct format"
   ]
  },
  {
   "cell_type": "code",
   "execution_count": 4,
   "id": "317e1a0b",
   "metadata": {},
   "outputs": [
    {
     "name": "stdout",
     "output_type": "stream",
     "text": [
      "<class 'pandas.core.frame.DataFrame'>\n",
      "RangeIndex: 301355 entries, 0 to 301354\n",
      "Data columns (total 5 columns):\n",
      " #   Column        Non-Null Count   Dtype         \n",
      "---  ------        --------------   -----         \n",
      " 0   Дата          301355 non-null  datetime64[ns]\n",
      " 1   Склад         301355 non-null  int64         \n",
      " 2   Контрагент    301355 non-null  object        \n",
      " 3   Номенклатура  301355 non-null  object        \n",
      " 4   Количество    301355 non-null  int64         \n",
      "dtypes: datetime64[ns](1), int64(2), object(2)\n",
      "memory usage: 11.5+ MB\n"
     ]
    }
   ],
   "source": [
    "df['Дата'] = pd.to_datetime(df['Дата'])\n",
    "df.info()"
   ]
  },
  {
   "cell_type": "markdown",
   "id": "c117ede9",
   "metadata": {},
   "source": [
    "Grouping data by date and calculating the daily sales quantity"
   ]
  },
  {
   "cell_type": "code",
   "execution_count": 5,
   "id": "66085e84",
   "metadata": {},
   "outputs": [],
   "source": [
    "grouped_df = df.groupby('Дата').agg(Daily_sales=('Количество','sum')).reset_index()"
   ]
  },
  {
   "cell_type": "markdown",
   "id": "fbfd90ac",
   "metadata": {},
   "source": [
    "First few roes of the grouped data"
   ]
  },
  {
   "cell_type": "code",
   "execution_count": 6,
   "id": "79e12654",
   "metadata": {},
   "outputs": [
    {
     "data": {
      "text/html": [
       "<div>\n",
       "<style scoped>\n",
       "    .dataframe tbody tr th:only-of-type {\n",
       "        vertical-align: middle;\n",
       "    }\n",
       "\n",
       "    .dataframe tbody tr th {\n",
       "        vertical-align: top;\n",
       "    }\n",
       "\n",
       "    .dataframe thead th {\n",
       "        text-align: right;\n",
       "    }\n",
       "</style>\n",
       "<table border=\"1\" class=\"dataframe\">\n",
       "  <thead>\n",
       "    <tr style=\"text-align: right;\">\n",
       "      <th></th>\n",
       "      <th>Дата</th>\n",
       "      <th>Daily_sales</th>\n",
       "    </tr>\n",
       "  </thead>\n",
       "  <tbody>\n",
       "    <tr>\n",
       "      <th>0</th>\n",
       "      <td>2018-01-04</td>\n",
       "      <td>3734</td>\n",
       "    </tr>\n",
       "    <tr>\n",
       "      <th>1</th>\n",
       "      <td>2018-01-05</td>\n",
       "      <td>3643</td>\n",
       "    </tr>\n",
       "    <tr>\n",
       "      <th>2</th>\n",
       "      <td>2018-01-06</td>\n",
       "      <td>3193</td>\n",
       "    </tr>\n",
       "    <tr>\n",
       "      <th>3</th>\n",
       "      <td>2018-01-07</td>\n",
       "      <td>3298</td>\n",
       "    </tr>\n",
       "    <tr>\n",
       "      <th>4</th>\n",
       "      <td>2018-01-09</td>\n",
       "      <td>4055</td>\n",
       "    </tr>\n",
       "    <tr>\n",
       "      <th>5</th>\n",
       "      <td>2018-01-10</td>\n",
       "      <td>3653</td>\n",
       "    </tr>\n",
       "    <tr>\n",
       "      <th>6</th>\n",
       "      <td>2018-01-11</td>\n",
       "      <td>3176</td>\n",
       "    </tr>\n",
       "    <tr>\n",
       "      <th>7</th>\n",
       "      <td>2018-01-12</td>\n",
       "      <td>3092</td>\n",
       "    </tr>\n",
       "  </tbody>\n",
       "</table>\n",
       "</div>"
      ],
      "text/plain": [
       "        Дата  Daily_sales\n",
       "0 2018-01-04         3734\n",
       "1 2018-01-05         3643\n",
       "2 2018-01-06         3193\n",
       "3 2018-01-07         3298\n",
       "4 2018-01-09         4055\n",
       "5 2018-01-10         3653\n",
       "6 2018-01-11         3176\n",
       "7 2018-01-12         3092"
      ]
     },
     "execution_count": 6,
     "metadata": {},
     "output_type": "execute_result"
    }
   ],
   "source": [
    "grouped_df.head(8)"
   ]
  },
  {
   "cell_type": "markdown",
   "id": "9ce32d36",
   "metadata": {},
   "source": [
    "<b>Plotting a graph of the sales quantity schedule for grouped_df"
   ]
  },
  {
   "cell_type": "code",
   "execution_count": 7,
   "id": "a7f9c633",
   "metadata": {
    "scrolled": true
   },
   "outputs": [
    {
     "data": {
      "text/html": [
       "<div>\n",
       "<style scoped>\n",
       "    .dataframe tbody tr th:only-of-type {\n",
       "        vertical-align: middle;\n",
       "    }\n",
       "\n",
       "    .dataframe tbody tr th {\n",
       "        vertical-align: top;\n",
       "    }\n",
       "\n",
       "    .dataframe thead th {\n",
       "        text-align: right;\n",
       "    }\n",
       "</style>\n",
       "<table border=\"1\" class=\"dataframe\">\n",
       "  <thead>\n",
       "    <tr style=\"text-align: right;\">\n",
       "      <th></th>\n",
       "      <th>Дата</th>\n",
       "    </tr>\n",
       "  </thead>\n",
       "  <tbody>\n",
       "    <tr>\n",
       "      <th>0</th>\n",
       "      <td>01/18</td>\n",
       "    </tr>\n",
       "    <tr>\n",
       "      <th>1</th>\n",
       "      <td>02/18</td>\n",
       "    </tr>\n",
       "    <tr>\n",
       "      <th>2</th>\n",
       "      <td>03/18</td>\n",
       "    </tr>\n",
       "    <tr>\n",
       "      <th>3</th>\n",
       "      <td>04/18</td>\n",
       "    </tr>\n",
       "    <tr>\n",
       "      <th>4</th>\n",
       "      <td>05/18</td>\n",
       "    </tr>\n",
       "    <tr>\n",
       "      <th>5</th>\n",
       "      <td>06/18</td>\n",
       "    </tr>\n",
       "    <tr>\n",
       "      <th>6</th>\n",
       "      <td>07/18</td>\n",
       "    </tr>\n",
       "    <tr>\n",
       "      <th>7</th>\n",
       "      <td>08/18</td>\n",
       "    </tr>\n",
       "  </tbody>\n",
       "</table>\n",
       "</div>"
      ],
      "text/plain": [
       "    Дата\n",
       "0  01/18\n",
       "1  02/18\n",
       "2  03/18\n",
       "3  04/18\n",
       "4  05/18\n",
       "5  06/18\n",
       "6  07/18\n",
       "7  08/18"
      ]
     },
     "execution_count": 7,
     "metadata": {},
     "output_type": "execute_result"
    }
   ],
   "source": [
    "# Transforming date into a more convenient form so that the x-axis is not as crowded\n",
    "date_format = pd.DataFrame(grouped_df['Дата'].dt.strftime('%m/%y'))\n",
    "date_format = date_format.drop_duplicates().reset_index().drop('index',axis=1)\n",
    "date_format"
   ]
  },
  {
   "cell_type": "code",
   "execution_count": 8,
   "id": "1d23a10e",
   "metadata": {},
   "outputs": [],
   "source": [
    "# Creating values for the x-axis\n",
    "xticks = pd.Series([f'2018-0{i}-15' for i in grouped_df['Дата'].dt.month.drop_duplicates().reset_index().drop('index',axis=1)['Дата']])\n",
    "xticks = pd.to_datetime(xticks)"
   ]
  },
  {
   "cell_type": "code",
   "execution_count": 9,
   "id": "9a46b2f5",
   "metadata": {},
   "outputs": [
    {
     "data": {
      "image/png": "[encoded data removed]",
      "text/plain": [
       "<Figure size 640x480 with 1 Axes>"
      ]
     },
     "metadata": {},
     "output_type": "display_data"
    }
   ],
   "source": [
    "# Plotting a graph using the above 2 cells\n",
    "plt.plot(grouped_df['Дата'],grouped_df['Daily_sales'])\n",
    "plt.xlabel('Date')\n",
    "plt.ylabel('Sales quantity')\n",
    "plt.yticks(np.arange(2000,8000,1000))\n",
    "plt.xticks(ticks=xticks,labels=date_format['Дата']);"
   ]
  },
  {
   "cell_type": "markdown",
   "id": "bf961738",
   "metadata": {},
   "source": [
    "There are strong oscillations intramonth as can be seen on the graph. This might be correlated with differing sales quantities by days of week. Also the graph is increasing which might suggest that there are greater sales by quantity in the summer than in the winter. There is also a prominent decline and a sideways movement by the end of March - start of April which might imply that there is some seasonality involved. On top of that. there is a drastic drop at the end of April, which looks more like an outlier."
   ]
  },
  {
   "cell_type": "code",
   "execution_count": 11,
   "id": "542b6d27",
   "metadata": {
    "scrolled": true
   },
   "outputs": [
    {
     "data": {
      "image/png": "[encoded data removed]",
      "text/plain": [
       "<Figure size 640x480 with 1 Axes>"
      ]
     },
     "metadata": {},
     "output_type": "display_data"
    }
   ],
   "source": [
    "# Checking how sales quanity differs by days of week\n",
    "grouped_df['Weekday'] = grouped_df['Дата'].dt.weekday\n",
    "plt.plot(grouped_df['Weekday'].drop_duplicates().sort_values(),grouped_df.groupby('Weekday').mean('Daily_sales')['Daily_sales']);"
   ]
  },
  {
   "cell_type": "markdown",
   "id": "0f6d8d48",
   "metadata": {},
   "source": [
    "There really is a difference in sales quantity: more at the start and less at the end of the week."
   ]
  },
  {
   "cell_type": "markdown",
   "id": "85412b89",
   "metadata": {},
   "source": [
    "<b>Finding the row with the biggest outlier in terms of sales quantity"
   ]
  },
  {
   "cell_type": "code",
   "execution_count": 12,
   "id": "2baebf0c",
   "metadata": {},
   "outputs": [
    {
     "data": {
      "image/png": "[encoded data removed]",
      "text/plain": [
       "<Figure size 640x480 with 1 Axes>"
      ]
     },
     "metadata": {},
     "output_type": "display_data"
    }
   ],
   "source": [
    "# Visualizing values first\n",
    "sns.boxplot(df['Количество']);"
   ]
  },
  {
   "cell_type": "markdown",
   "id": "e8c99403",
   "metadata": {},
   "source": [
    "There is the big outlier with the value around 200"
   ]
  },
  {
   "cell_type": "code",
   "execution_count": 13,
   "id": "ac1a3dd0",
   "metadata": {},
   "outputs": [
    {
     "data": {
      "text/html": [
       "<div>\n",
       "<style scoped>\n",
       "    .dataframe tbody tr th:only-of-type {\n",
       "        vertical-align: middle;\n",
       "    }\n",
       "\n",
       "    .dataframe tbody tr th {\n",
       "        vertical-align: top;\n",
       "    }\n",
       "\n",
       "    .dataframe thead th {\n",
       "        text-align: right;\n",
       "    }\n",
       "</style>\n",
       "<table border=\"1\" class=\"dataframe\">\n",
       "  <thead>\n",
       "    <tr style=\"text-align: right;\">\n",
       "      <th></th>\n",
       "      <th>Дата</th>\n",
       "      <th>Склад</th>\n",
       "      <th>Контрагент</th>\n",
       "      <th>Номенклатура</th>\n",
       "      <th>Количество</th>\n",
       "    </tr>\n",
       "  </thead>\n",
       "  <tbody>\n",
       "    <tr>\n",
       "      <th>218822</th>\n",
       "      <td>2018-06-28</td>\n",
       "      <td>1</td>\n",
       "      <td>address_208</td>\n",
       "      <td>product_0</td>\n",
       "      <td>200</td>\n",
       "    </tr>\n",
       "  </tbody>\n",
       "</table>\n",
       "</div>"
      ],
      "text/plain": [
       "             Дата  Склад   Контрагент Номенклатура  Количество\n",
       "218822 2018-06-28      1  address_208    product_0         200"
      ]
     },
     "execution_count": 13,
     "metadata": {},
     "output_type": "execute_result"
    }
   ],
   "source": [
    "# Extracting the row with the outlier\n",
    "# Greater than 175 is used as a filter here since the outlier is the only such value \n",
    "df[df['Количество']>175]"
   ]
  },
  {
   "cell_type": "markdown",
   "id": "30aa9654",
   "metadata": {},
   "source": [
    "<b> Finding the top product by sales quantity on Wednesdays of June, July, August for the third warehouse"
   ]
  },
  {
   "cell_type": "code",
   "execution_count": 15,
   "id": "c3d75d16",
   "metadata": {},
   "outputs": [
    {
     "data": {
      "text/html": [
       "<div>\n",
       "<style scoped>\n",
       "    .dataframe tbody tr th:only-of-type {\n",
       "        vertical-align: middle;\n",
       "    }\n",
       "\n",
       "    .dataframe tbody tr th {\n",
       "        vertical-align: top;\n",
       "    }\n",
       "\n",
       "    .dataframe thead th {\n",
       "        text-align: right;\n",
       "    }\n",
       "</style>\n",
       "<table border=\"1\" class=\"dataframe\">\n",
       "  <thead>\n",
       "    <tr style=\"text-align: right;\">\n",
       "      <th></th>\n",
       "      <th>Дата</th>\n",
       "      <th>Склад</th>\n",
       "      <th>Контрагент</th>\n",
       "      <th>Номенклатура</th>\n",
       "      <th>Количество</th>\n",
       "      <th>Weekday</th>\n",
       "      <th>Month</th>\n",
       "    </tr>\n",
       "  </thead>\n",
       "  <tbody>\n",
       "    <tr>\n",
       "      <th>0</th>\n",
       "      <td>2018-01-04</td>\n",
       "      <td>1</td>\n",
       "      <td>address_0</td>\n",
       "      <td>product_0</td>\n",
       "      <td>4</td>\n",
       "      <td>3</td>\n",
       "      <td>1</td>\n",
       "    </tr>\n",
       "    <tr>\n",
       "      <th>1</th>\n",
       "      <td>2018-01-04</td>\n",
       "      <td>1</td>\n",
       "      <td>address_0</td>\n",
       "      <td>product_1</td>\n",
       "      <td>4</td>\n",
       "      <td>3</td>\n",
       "      <td>1</td>\n",
       "    </tr>\n",
       "    <tr>\n",
       "      <th>2</th>\n",
       "      <td>2018-01-04</td>\n",
       "      <td>1</td>\n",
       "      <td>address_0</td>\n",
       "      <td>product_2</td>\n",
       "      <td>5</td>\n",
       "      <td>3</td>\n",
       "      <td>1</td>\n",
       "    </tr>\n",
       "    <tr>\n",
       "      <th>3</th>\n",
       "      <td>2018-01-04</td>\n",
       "      <td>1</td>\n",
       "      <td>address_0</td>\n",
       "      <td>product_3</td>\n",
       "      <td>10</td>\n",
       "      <td>3</td>\n",
       "      <td>1</td>\n",
       "    </tr>\n",
       "    <tr>\n",
       "      <th>4</th>\n",
       "      <td>2018-01-04</td>\n",
       "      <td>1</td>\n",
       "      <td>address_0</td>\n",
       "      <td>product_4</td>\n",
       "      <td>2</td>\n",
       "      <td>3</td>\n",
       "      <td>1</td>\n",
       "    </tr>\n",
       "  </tbody>\n",
       "</table>\n",
       "</div>"
      ],
      "text/plain": [
       "        Дата  Склад Контрагент Номенклатура  Количество  Weekday  Month\n",
       "0 2018-01-04      1  address_0    product_0           4        3      1\n",
       "1 2018-01-04      1  address_0    product_1           4        3      1\n",
       "2 2018-01-04      1  address_0    product_2           5        3      1\n",
       "3 2018-01-04      1  address_0    product_3          10        3      1\n",
       "4 2018-01-04      1  address_0    product_4           2        3      1"
      ]
     },
     "execution_count": 15,
     "metadata": {},
     "output_type": "execute_result"
    }
   ],
   "source": [
    "# Creating a column with months and days of the week\n",
    "df['Weekday'] = df['Дата'].dt.weekday\n",
    "df['Month'] = df['Дата'].dt.month\n",
    "df.head()"
   ]
  },
  {
   "cell_type": "code",
   "execution_count": 16,
   "id": "926029f7",
   "metadata": {},
   "outputs": [],
   "source": [
    "# Creating filters\n",
    "wed = df['Weekday']==3\n",
    "warehouse = df['Склад'] == 3"
   ]
  },
  {
   "cell_type": "code",
   "execution_count": 17,
   "id": "0e3f234f",
   "metadata": {
    "scrolled": true
   },
   "outputs": [
    {
     "data": {
      "text/html": [
       "<div>\n",
       "<style scoped>\n",
       "    .dataframe tbody tr th:only-of-type {\n",
       "        vertical-align: middle;\n",
       "    }\n",
       "\n",
       "    .dataframe tbody tr th {\n",
       "        vertical-align: top;\n",
       "    }\n",
       "\n",
       "    .dataframe thead th {\n",
       "        text-align: right;\n",
       "    }\n",
       "</style>\n",
       "<table border=\"1\" class=\"dataframe\">\n",
       "  <thead>\n",
       "    <tr style=\"text-align: right;\">\n",
       "      <th></th>\n",
       "      <th>Номенклатура</th>\n",
       "      <th>Month</th>\n",
       "      <th>Daily_sales</th>\n",
       "    </tr>\n",
       "  </thead>\n",
       "  <tbody>\n",
       "    <tr>\n",
       "      <th>0</th>\n",
       "      <td>product_0</td>\n",
       "      <td>1</td>\n",
       "      <td>334</td>\n",
       "    </tr>\n",
       "    <tr>\n",
       "      <th>1</th>\n",
       "      <td>product_0</td>\n",
       "      <td>2</td>\n",
       "      <td>418</td>\n",
       "    </tr>\n",
       "    <tr>\n",
       "      <th>2</th>\n",
       "      <td>product_0</td>\n",
       "      <td>3</td>\n",
       "      <td>435</td>\n",
       "    </tr>\n",
       "    <tr>\n",
       "      <th>3</th>\n",
       "      <td>product_0</td>\n",
       "      <td>4</td>\n",
       "      <td>506</td>\n",
       "    </tr>\n",
       "    <tr>\n",
       "      <th>4</th>\n",
       "      <td>product_0</td>\n",
       "      <td>5</td>\n",
       "      <td>723</td>\n",
       "    </tr>\n",
       "    <tr>\n",
       "      <th>...</th>\n",
       "      <td>...</td>\n",
       "      <td>...</td>\n",
       "      <td>...</td>\n",
       "    </tr>\n",
       "    <tr>\n",
       "      <th>178</th>\n",
       "      <td>product_8</td>\n",
       "      <td>5</td>\n",
       "      <td>19</td>\n",
       "    </tr>\n",
       "    <tr>\n",
       "      <th>179</th>\n",
       "      <td>product_8</td>\n",
       "      <td>6</td>\n",
       "      <td>30</td>\n",
       "    </tr>\n",
       "    <tr>\n",
       "      <th>180</th>\n",
       "      <td>product_8</td>\n",
       "      <td>7</td>\n",
       "      <td>18</td>\n",
       "    </tr>\n",
       "    <tr>\n",
       "      <th>181</th>\n",
       "      <td>product_8</td>\n",
       "      <td>8</td>\n",
       "      <td>41</td>\n",
       "    </tr>\n",
       "    <tr>\n",
       "      <th>182</th>\n",
       "      <td>product_9</td>\n",
       "      <td>1</td>\n",
       "      <td>27</td>\n",
       "    </tr>\n",
       "  </tbody>\n",
       "</table>\n",
       "<p>183 rows × 3 columns</p>\n",
       "</div>"
      ],
      "text/plain": [
       "    Номенклатура  Month  Daily_sales\n",
       "0      product_0      1          334\n",
       "1      product_0      2          418\n",
       "2      product_0      3          435\n",
       "3      product_0      4          506\n",
       "4      product_0      5          723\n",
       "..           ...    ...          ...\n",
       "178    product_8      5           19\n",
       "179    product_8      6           30\n",
       "180    product_8      7           18\n",
       "181    product_8      8           41\n",
       "182    product_9      1           27\n",
       "\n",
       "[183 rows x 3 columns]"
      ]
     },
     "execution_count": 17,
     "metadata": {},
     "output_type": "execute_result"
    }
   ],
   "source": [
    "# Grouping sales by products and months\n",
    "new_df = df[wed&warehouse]\n",
    "new_df = new_df.groupby(['Номенклатура','Month']).agg(Daily_sales=('Количество','sum')).reset_index()\n",
    "new_df"
   ]
  },
  {
   "cell_type": "code",
   "execution_count": 18,
   "id": "180b7407",
   "metadata": {},
   "outputs": [],
   "source": [
    "# More filters\n",
    "jun = new_df['Month'] == 6\n",
    "jul = new_df['Month'] == 7\n",
    "aug = new_df['Month'] == 8"
   ]
  },
  {
   "cell_type": "code",
   "execution_count": 19,
   "id": "8354b8f9",
   "metadata": {
    "scrolled": true
   },
   "outputs": [
    {
     "data": {
      "text/plain": [
       "Номенклатура    product_1\n",
       "Month                   6\n",
       "Daily_sales           689\n",
       "Name: 13, dtype: object"
      ]
     },
     "execution_count": 19,
     "metadata": {},
     "output_type": "execute_result"
    }
   ],
   "source": [
    "# Extracting the row of the best product for June's Wednesdays\n",
    "new_df.iloc[new_df[jun]['Daily_sales'].idxmax()]"
   ]
  },
  {
   "cell_type": "markdown",
   "id": "2e620583",
   "metadata": {},
   "source": [
    "It happens to be product_1"
   ]
  },
  {
   "cell_type": "code",
   "execution_count": 22,
   "id": "51864fea",
   "metadata": {},
   "outputs": [
    {
     "data": {
      "text/plain": [
       "Номенклатура    product_1\n",
       "Month                   7\n",
       "Daily_sales           900\n",
       "Name: 14, dtype: object"
      ]
     },
     "execution_count": 22,
     "metadata": {},
     "output_type": "execute_result"
    }
   ],
   "source": [
    "# Extracting the row of the best product for July's Wednesdays\n",
    "new_df.iloc[new_df[jul]['Daily_sales'].idxmax()]\n",
    "# Это оказался product_1"
   ]
  },
  {
   "cell_type": "markdown",
   "id": "9656d5b0",
   "metadata": {},
   "source": [
    "It again happens to be product_1"
   ]
  },
  {
   "cell_type": "code",
   "execution_count": 23,
   "id": "7a765d4d",
   "metadata": {
    "scrolled": true
   },
   "outputs": [
    {
     "data": {
      "text/plain": [
       "Номенклатура    product_1\n",
       "Month                   8\n",
       "Daily_sales          1192\n",
       "Name: 15, dtype: object"
      ]
     },
     "execution_count": 23,
     "metadata": {},
     "output_type": "execute_result"
    }
   ],
   "source": [
    "# Extracting the row of the best product for August's Wednesdays\n",
    "new_df.iloc[new_df[aug]['Daily_sales'].idxmax()]"
   ]
  },
  {
   "cell_type": "markdown",
   "id": "62da4dcd",
   "metadata": {},
   "source": [
    "It happens to be product_1 for all 3 cases"
   ]
  },
  {
   "cell_type": "markdown",
   "id": "e91da15f",
   "metadata": {},
   "source": [
    "<b>Downloading data for weather in Astana for corresponding dates from https://rp5.ru/Архив_погоды_в_Астане and converting it into daily average temperatures, merging tables and plotting a graph with daily sales quantity and temperature on the y-axis."
   ]
  },
  {
   "cell_type": "code",
   "execution_count": 24,
   "id": "2f298fa6",
   "metadata": {},
   "outputs": [
    {
     "data": {
      "text/html": [
       "<div>\n",
       "<style scoped>\n",
       "    .dataframe tbody tr th:only-of-type {\n",
       "        vertical-align: middle;\n",
       "    }\n",
       "\n",
       "    .dataframe tbody tr th {\n",
       "        vertical-align: top;\n",
       "    }\n",
       "\n",
       "    .dataframe thead th {\n",
       "        text-align: right;\n",
       "    }\n",
       "</style>\n",
       "<table border=\"1\" class=\"dataframe\">\n",
       "  <thead>\n",
       "    <tr style=\"text-align: right;\">\n",
       "      <th></th>\n",
       "      <th># Метеостанция Астана, Казахстан, WMO_ID=35188, выборка с 04.01.2018 по 31.08.2018, все дни</th>\n",
       "      <th>Unnamed: 1</th>\n",
       "      <th>Unnamed: 2</th>\n",
       "      <th>Unnamed: 3</th>\n",
       "      <th>Unnamed: 4</th>\n",
       "      <th>Unnamed: 5</th>\n",
       "      <th>Unnamed: 6</th>\n",
       "      <th>Unnamed: 7</th>\n",
       "      <th>Unnamed: 8</th>\n",
       "      <th>Unnamed: 9</th>\n",
       "      <th>...</th>\n",
       "      <th>Unnamed: 19</th>\n",
       "      <th>Unnamed: 20</th>\n",
       "      <th>Unnamed: 21</th>\n",
       "      <th>Unnamed: 22</th>\n",
       "      <th>Unnamed: 23</th>\n",
       "      <th>Unnamed: 24</th>\n",
       "      <th>Unnamed: 25</th>\n",
       "      <th>Unnamed: 26</th>\n",
       "      <th>Unnamed: 27</th>\n",
       "      <th>Unnamed: 28</th>\n",
       "    </tr>\n",
       "  </thead>\n",
       "  <tbody>\n",
       "    <tr>\n",
       "      <th>0</th>\n",
       "      <td># Кодировка: UTF-8</td>\n",
       "      <td>NaN</td>\n",
       "      <td>NaN</td>\n",
       "      <td>NaN</td>\n",
       "      <td>NaN</td>\n",
       "      <td>NaN</td>\n",
       "      <td>NaN</td>\n",
       "      <td>NaN</td>\n",
       "      <td>NaN</td>\n",
       "      <td>NaN</td>\n",
       "      <td>...</td>\n",
       "      <td>NaN</td>\n",
       "      <td>NaN</td>\n",
       "      <td>NaN</td>\n",
       "      <td>NaN</td>\n",
       "      <td>NaN</td>\n",
       "      <td>NaN</td>\n",
       "      <td>NaN</td>\n",
       "      <td>NaN</td>\n",
       "      <td>NaN</td>\n",
       "      <td>NaN</td>\n",
       "    </tr>\n",
       "    <tr>\n",
       "      <th>1</th>\n",
       "      <td># Информация предоставлена сайтом \"Расписание ...</td>\n",
       "      <td>NaN</td>\n",
       "      <td>NaN</td>\n",
       "      <td>NaN</td>\n",
       "      <td>NaN</td>\n",
       "      <td>NaN</td>\n",
       "      <td>NaN</td>\n",
       "      <td>NaN</td>\n",
       "      <td>NaN</td>\n",
       "      <td>NaN</td>\n",
       "      <td>...</td>\n",
       "      <td>NaN</td>\n",
       "      <td>NaN</td>\n",
       "      <td>NaN</td>\n",
       "      <td>NaN</td>\n",
       "      <td>NaN</td>\n",
       "      <td>NaN</td>\n",
       "      <td>NaN</td>\n",
       "      <td>NaN</td>\n",
       "      <td>NaN</td>\n",
       "      <td>NaN</td>\n",
       "    </tr>\n",
       "    <tr>\n",
       "      <th>2</th>\n",
       "      <td># Пожалуйста, при использовании данных, любезн...</td>\n",
       "      <td>NaN</td>\n",
       "      <td>NaN</td>\n",
       "      <td>NaN</td>\n",
       "      <td>NaN</td>\n",
       "      <td>NaN</td>\n",
       "      <td>NaN</td>\n",
       "      <td>NaN</td>\n",
       "      <td>NaN</td>\n",
       "      <td>NaN</td>\n",
       "      <td>...</td>\n",
       "      <td>NaN</td>\n",
       "      <td>NaN</td>\n",
       "      <td>NaN</td>\n",
       "      <td>NaN</td>\n",
       "      <td>NaN</td>\n",
       "      <td>NaN</td>\n",
       "      <td>NaN</td>\n",
       "      <td>NaN</td>\n",
       "      <td>NaN</td>\n",
       "      <td>NaN</td>\n",
       "    </tr>\n",
       "    <tr>\n",
       "      <th>3</th>\n",
       "      <td># Обозначения метеопараметров см. по адресу ht...</td>\n",
       "      <td>NaN</td>\n",
       "      <td>NaN</td>\n",
       "      <td>NaN</td>\n",
       "      <td>NaN</td>\n",
       "      <td>NaN</td>\n",
       "      <td>NaN</td>\n",
       "      <td>NaN</td>\n",
       "      <td>NaN</td>\n",
       "      <td>NaN</td>\n",
       "      <td>...</td>\n",
       "      <td>NaN</td>\n",
       "      <td>NaN</td>\n",
       "      <td>NaN</td>\n",
       "      <td>NaN</td>\n",
       "      <td>NaN</td>\n",
       "      <td>NaN</td>\n",
       "      <td>NaN</td>\n",
       "      <td>NaN</td>\n",
       "      <td>NaN</td>\n",
       "      <td>NaN</td>\n",
       "    </tr>\n",
       "    <tr>\n",
       "      <th>4</th>\n",
       "      <td>#</td>\n",
       "      <td>NaN</td>\n",
       "      <td>NaN</td>\n",
       "      <td>NaN</td>\n",
       "      <td>NaN</td>\n",
       "      <td>NaN</td>\n",
       "      <td>NaN</td>\n",
       "      <td>NaN</td>\n",
       "      <td>NaN</td>\n",
       "      <td>NaN</td>\n",
       "      <td>...</td>\n",
       "      <td>NaN</td>\n",
       "      <td>NaN</td>\n",
       "      <td>NaN</td>\n",
       "      <td>NaN</td>\n",
       "      <td>NaN</td>\n",
       "      <td>NaN</td>\n",
       "      <td>NaN</td>\n",
       "      <td>NaN</td>\n",
       "      <td>NaN</td>\n",
       "      <td>NaN</td>\n",
       "    </tr>\n",
       "    <tr>\n",
       "      <th>5</th>\n",
       "      <td>Местное время в Астане</td>\n",
       "      <td>T</td>\n",
       "      <td>Po</td>\n",
       "      <td>P</td>\n",
       "      <td>Pa</td>\n",
       "      <td>U</td>\n",
       "      <td>DD</td>\n",
       "      <td>Ff</td>\n",
       "      <td>ff10</td>\n",
       "      <td>ff3</td>\n",
       "      <td>...</td>\n",
       "      <td>Cm</td>\n",
       "      <td>Ch</td>\n",
       "      <td>VV</td>\n",
       "      <td>Td</td>\n",
       "      <td>RRR</td>\n",
       "      <td>tR</td>\n",
       "      <td>E</td>\n",
       "      <td>Tg</td>\n",
       "      <td>E'</td>\n",
       "      <td>sss</td>\n",
       "    </tr>\n",
       "    <tr>\n",
       "      <th>6</th>\n",
       "      <td>31.08.2018 23:00</td>\n",
       "      <td>8.2</td>\n",
       "      <td>736.6</td>\n",
       "      <td>768.3</td>\n",
       "      <td>0.2</td>\n",
       "      <td>78</td>\n",
       "      <td>Ветер, дующий с северо-востока</td>\n",
       "      <td>4</td>\n",
       "      <td>NaN</td>\n",
       "      <td>NaN</td>\n",
       "      <td>...</td>\n",
       "      <td>Высококучевых, высокослоистых или слоисто-дожд...</td>\n",
       "      <td>Перистых, перисто-кучевых или перисто-слоистых...</td>\n",
       "      <td>NaN</td>\n",
       "      <td>4.6</td>\n",
       "      <td>Следы осадков</td>\n",
       "      <td>12</td>\n",
       "      <td>NaN</td>\n",
       "      <td>NaN</td>\n",
       "      <td>NaN</td>\n",
       "      <td>NaN</td>\n",
       "    </tr>\n",
       "    <tr>\n",
       "      <th>7</th>\n",
       "      <td>31.08.2018 20:00</td>\n",
       "      <td>9.6</td>\n",
       "      <td>736.4</td>\n",
       "      <td>767.9</td>\n",
       "      <td>1.2</td>\n",
       "      <td>88</td>\n",
       "      <td>Ветер, дующий с западо-северо-запада</td>\n",
       "      <td>3</td>\n",
       "      <td>NaN</td>\n",
       "      <td>NaN</td>\n",
       "      <td>...</td>\n",
       "      <td>Высококучевых, высокослоистых или слоисто-дожд...</td>\n",
       "      <td>Перистых, перисто-кучевых или перисто-слоистых...</td>\n",
       "      <td>NaN</td>\n",
       "      <td>7.7</td>\n",
       "      <td>Следы осадков</td>\n",
       "      <td>12</td>\n",
       "      <td>NaN</td>\n",
       "      <td>NaN</td>\n",
       "      <td>NaN</td>\n",
       "      <td>NaN</td>\n",
       "    </tr>\n",
       "    <tr>\n",
       "      <th>8</th>\n",
       "      <td>31.08.2018 17:00</td>\n",
       "      <td>11.3</td>\n",
       "      <td>735.2</td>\n",
       "      <td>766.4</td>\n",
       "      <td>0.4</td>\n",
       "      <td>83</td>\n",
       "      <td>Ветер, дующий с востоко-северо-востока</td>\n",
       "      <td>4</td>\n",
       "      <td>NaN</td>\n",
       "      <td>NaN</td>\n",
       "      <td>...</td>\n",
       "      <td>NaN</td>\n",
       "      <td>NaN</td>\n",
       "      <td>10</td>\n",
       "      <td>8.5</td>\n",
       "      <td>NaN</td>\n",
       "      <td>NaN</td>\n",
       "      <td>NaN</td>\n",
       "      <td>NaN</td>\n",
       "      <td>NaN</td>\n",
       "      <td>NaN</td>\n",
       "    </tr>\n",
       "    <tr>\n",
       "      <th>9</th>\n",
       "      <td>31.08.2018 14:00</td>\n",
       "      <td>12.3</td>\n",
       "      <td>734.8</td>\n",
       "      <td>765.9</td>\n",
       "      <td>0.9</td>\n",
       "      <td>80</td>\n",
       "      <td>Ветер, дующий с северо-востока</td>\n",
       "      <td>4</td>\n",
       "      <td>NaN</td>\n",
       "      <td>NaN</td>\n",
       "      <td>...</td>\n",
       "      <td>NaN</td>\n",
       "      <td>NaN</td>\n",
       "      <td>4</td>\n",
       "      <td>8.9</td>\n",
       "      <td>NaN</td>\n",
       "      <td>NaN</td>\n",
       "      <td>NaN</td>\n",
       "      <td>NaN</td>\n",
       "      <td>NaN</td>\n",
       "      <td>NaN</td>\n",
       "    </tr>\n",
       "  </tbody>\n",
       "</table>\n",
       "<p>10 rows × 29 columns</p>\n",
       "</div>"
      ],
      "text/plain": [
       "  # Метеостанция Астана, Казахстан, WMO_ID=35188, выборка с 04.01.2018 по 31.08.2018, все дни  \\\n",
       "0                                 # Кодировка: UTF-8                                            \n",
       "1  # Информация предоставлена сайтом \"Расписание ...                                            \n",
       "2  # Пожалуйста, при использовании данных, любезн...                                            \n",
       "3  # Обозначения метеопараметров см. по адресу ht...                                            \n",
       "4                                                  #                                            \n",
       "5                             Местное время в Астане                                            \n",
       "6                                   31.08.2018 23:00                                            \n",
       "7                                   31.08.2018 20:00                                            \n",
       "8                                   31.08.2018 17:00                                            \n",
       "9                                   31.08.2018 14:00                                            \n",
       "\n",
       "  Unnamed: 1 Unnamed: 2 Unnamed: 3 Unnamed: 4 Unnamed: 5  \\\n",
       "0        NaN        NaN        NaN        NaN        NaN   \n",
       "1        NaN        NaN        NaN        NaN        NaN   \n",
       "2        NaN        NaN        NaN        NaN        NaN   \n",
       "3        NaN        NaN        NaN        NaN        NaN   \n",
       "4        NaN        NaN        NaN        NaN        NaN   \n",
       "5          T         Po          P         Pa          U   \n",
       "6        8.2      736.6      768.3        0.2         78   \n",
       "7        9.6      736.4      767.9        1.2         88   \n",
       "8       11.3      735.2      766.4        0.4         83   \n",
       "9       12.3      734.8      765.9        0.9         80   \n",
       "\n",
       "                               Unnamed: 6 Unnamed: 7 Unnamed: 8 Unnamed: 9  \\\n",
       "0                                     NaN        NaN        NaN        NaN   \n",
       "1                                     NaN        NaN        NaN        NaN   \n",
       "2                                     NaN        NaN        NaN        NaN   \n",
       "3                                     NaN        NaN        NaN        NaN   \n",
       "4                                     NaN        NaN        NaN        NaN   \n",
       "5                                      DD         Ff       ff10        ff3   \n",
       "6          Ветер, дующий с северо-востока          4        NaN        NaN   \n",
       "7    Ветер, дующий с западо-северо-запада          3        NaN        NaN   \n",
       "8  Ветер, дующий с востоко-северо-востока          4        NaN        NaN   \n",
       "9          Ветер, дующий с северо-востока          4        NaN        NaN   \n",
       "\n",
       "   ...                                        Unnamed: 19  \\\n",
       "0  ...                                                NaN   \n",
       "1  ...                                                NaN   \n",
       "2  ...                                                NaN   \n",
       "3  ...                                                NaN   \n",
       "4  ...                                                NaN   \n",
       "5  ...                                                 Cm   \n",
       "6  ...  Высококучевых, высокослоистых или слоисто-дожд...   \n",
       "7  ...  Высококучевых, высокослоистых или слоисто-дожд...   \n",
       "8  ...                                                NaN   \n",
       "9  ...                                                NaN   \n",
       "\n",
       "                                         Unnamed: 20 Unnamed: 21 Unnamed: 22  \\\n",
       "0                                                NaN         NaN         NaN   \n",
       "1                                                NaN         NaN         NaN   \n",
       "2                                                NaN         NaN         NaN   \n",
       "3                                                NaN         NaN         NaN   \n",
       "4                                                NaN         NaN         NaN   \n",
       "5                                                 Ch          VV          Td   \n",
       "6  Перистых, перисто-кучевых или перисто-слоистых...         NaN         4.6   \n",
       "7  Перистых, перисто-кучевых или перисто-слоистых...         NaN         7.7   \n",
       "8                                                NaN          10         8.5   \n",
       "9                                                NaN           4         8.9   \n",
       "\n",
       "     Unnamed: 23 Unnamed: 24 Unnamed: 25 Unnamed: 26 Unnamed: 27 Unnamed: 28  \n",
       "0            NaN         NaN         NaN         NaN         NaN         NaN  \n",
       "1            NaN         NaN         NaN         NaN         NaN         NaN  \n",
       "2            NaN         NaN         NaN         NaN         NaN         NaN  \n",
       "3            NaN         NaN         NaN         NaN         NaN         NaN  \n",
       "4            NaN         NaN         NaN         NaN         NaN         NaN  \n",
       "5            RRR          tR           E          Tg          E'         sss  \n",
       "6  Следы осадков          12         NaN         NaN         NaN         NaN  \n",
       "7  Следы осадков          12         NaN         NaN         NaN         NaN  \n",
       "8            NaN         NaN         NaN         NaN         NaN         NaN  \n",
       "9            NaN         NaN         NaN         NaN         NaN         NaN  \n",
       "\n",
       "[10 rows x 29 columns]"
      ]
     },
     "execution_count": 24,
     "metadata": {},
     "output_type": "execute_result"
    }
   ],
   "source": [
    "# Opening the downloaded file and looking at it\n",
    "weather = pd.read_excel('weather2.xls')\n",
    "weather.head(10)"
   ]
  },
  {
   "cell_type": "code",
   "execution_count": 25,
   "id": "eadac46e",
   "metadata": {},
   "outputs": [
    {
     "data": {
      "text/html": [
       "<div>\n",
       "<style scoped>\n",
       "    .dataframe tbody tr th:only-of-type {\n",
       "        vertical-align: middle;\n",
       "    }\n",
       "\n",
       "    .dataframe tbody tr th {\n",
       "        vertical-align: top;\n",
       "    }\n",
       "\n",
       "    .dataframe thead th {\n",
       "        text-align: right;\n",
       "    }\n",
       "</style>\n",
       "<table border=\"1\" class=\"dataframe\">\n",
       "  <thead>\n",
       "    <tr style=\"text-align: right;\">\n",
       "      <th>5</th>\n",
       "      <th>Местное время в Астане</th>\n",
       "      <th>T</th>\n",
       "    </tr>\n",
       "  </thead>\n",
       "  <tbody>\n",
       "    <tr>\n",
       "      <th>0</th>\n",
       "      <td>31.08.2018 23:00</td>\n",
       "      <td>8.2</td>\n",
       "    </tr>\n",
       "    <tr>\n",
       "      <th>1</th>\n",
       "      <td>31.08.2018 20:00</td>\n",
       "      <td>9.6</td>\n",
       "    </tr>\n",
       "    <tr>\n",
       "      <th>2</th>\n",
       "      <td>31.08.2018 17:00</td>\n",
       "      <td>11.3</td>\n",
       "    </tr>\n",
       "    <tr>\n",
       "      <th>3</th>\n",
       "      <td>31.08.2018 14:00</td>\n",
       "      <td>12.3</td>\n",
       "    </tr>\n",
       "    <tr>\n",
       "      <th>4</th>\n",
       "      <td>31.08.2018 11:00</td>\n",
       "      <td>13.2</td>\n",
       "    </tr>\n",
       "  </tbody>\n",
       "</table>\n",
       "</div>"
      ],
      "text/plain": [
       "5 Местное время в Астане     T\n",
       "0       31.08.2018 23:00   8.2\n",
       "1       31.08.2018 20:00   9.6\n",
       "2       31.08.2018 17:00  11.3\n",
       "3       31.08.2018 14:00  12.3\n",
       "4       31.08.2018 11:00  13.2"
      ]
     },
     "execution_count": 25,
     "metadata": {},
     "output_type": "execute_result"
    }
   ],
   "source": [
    "# Removing the first 5 unnecessary rows and leaving only the necessary columns\n",
    "weather = weather[5:]\n",
    "weather.columns = weather.iloc[0]\n",
    "weather = weather[1:].reset_index()[['Местное время в Астане','T']]\n",
    "weather.head()"
   ]
  },
  {
   "cell_type": "code",
   "execution_count": 26,
   "id": "692984fd",
   "metadata": {},
   "outputs": [],
   "source": [
    "# Transorming the values for date\n",
    "weather['Datetime'] = pd.to_datetime(weather['Местное время в Астане'],dayfirst=True)"
   ]
  },
  {
   "cell_type": "code",
   "execution_count": 27,
   "id": "6965a31a",
   "metadata": {},
   "outputs": [],
   "source": [
    "weather['Date'] = weather['Datetime'].dt.date"
   ]
  },
  {
   "cell_type": "code",
   "execution_count": 28,
   "id": "22c7c449",
   "metadata": {},
   "outputs": [
    {
     "data": {
      "text/html": [
       "<div>\n",
       "<style scoped>\n",
       "    .dataframe tbody tr th:only-of-type {\n",
       "        vertical-align: middle;\n",
       "    }\n",
       "\n",
       "    .dataframe tbody tr th {\n",
       "        vertical-align: top;\n",
       "    }\n",
       "\n",
       "    .dataframe thead th {\n",
       "        text-align: right;\n",
       "    }\n",
       "</style>\n",
       "<table border=\"1\" class=\"dataframe\">\n",
       "  <thead>\n",
       "    <tr style=\"text-align: right;\">\n",
       "      <th>5</th>\n",
       "      <th>Местное время в Астане</th>\n",
       "      <th>T</th>\n",
       "      <th>Datetime</th>\n",
       "      <th>Date</th>\n",
       "    </tr>\n",
       "  </thead>\n",
       "  <tbody>\n",
       "    <tr>\n",
       "      <th>0</th>\n",
       "      <td>31.08.2018 23:00</td>\n",
       "      <td>8.2</td>\n",
       "      <td>2018-08-31 23:00:00</td>\n",
       "      <td>2018-08-31</td>\n",
       "    </tr>\n",
       "    <tr>\n",
       "      <th>1</th>\n",
       "      <td>31.08.2018 20:00</td>\n",
       "      <td>9.6</td>\n",
       "      <td>2018-08-31 20:00:00</td>\n",
       "      <td>2018-08-31</td>\n",
       "    </tr>\n",
       "    <tr>\n",
       "      <th>2</th>\n",
       "      <td>31.08.2018 17:00</td>\n",
       "      <td>11.3</td>\n",
       "      <td>2018-08-31 17:00:00</td>\n",
       "      <td>2018-08-31</td>\n",
       "    </tr>\n",
       "    <tr>\n",
       "      <th>3</th>\n",
       "      <td>31.08.2018 14:00</td>\n",
       "      <td>12.3</td>\n",
       "      <td>2018-08-31 14:00:00</td>\n",
       "      <td>2018-08-31</td>\n",
       "    </tr>\n",
       "    <tr>\n",
       "      <th>4</th>\n",
       "      <td>31.08.2018 11:00</td>\n",
       "      <td>13.2</td>\n",
       "      <td>2018-08-31 11:00:00</td>\n",
       "      <td>2018-08-31</td>\n",
       "    </tr>\n",
       "  </tbody>\n",
       "</table>\n",
       "</div>"
      ],
      "text/plain": [
       "5 Местное время в Астане     T            Datetime        Date\n",
       "0       31.08.2018 23:00   8.2 2018-08-31 23:00:00  2018-08-31\n",
       "1       31.08.2018 20:00   9.6 2018-08-31 20:00:00  2018-08-31\n",
       "2       31.08.2018 17:00  11.3 2018-08-31 17:00:00  2018-08-31\n",
       "3       31.08.2018 14:00  12.3 2018-08-31 14:00:00  2018-08-31\n",
       "4       31.08.2018 11:00  13.2 2018-08-31 11:00:00  2018-08-31"
      ]
     },
     "execution_count": 28,
     "metadata": {},
     "output_type": "execute_result"
    }
   ],
   "source": [
    "weather.head()"
   ]
  },
  {
   "cell_type": "code",
   "execution_count": 29,
   "id": "8949bef3",
   "metadata": {
    "scrolled": true
   },
   "outputs": [
    {
     "data": {
      "text/html": [
       "<div>\n",
       "<style scoped>\n",
       "    .dataframe tbody tr th:only-of-type {\n",
       "        vertical-align: middle;\n",
       "    }\n",
       "\n",
       "    .dataframe tbody tr th {\n",
       "        vertical-align: top;\n",
       "    }\n",
       "\n",
       "    .dataframe thead th {\n",
       "        text-align: right;\n",
       "    }\n",
       "</style>\n",
       "<table border=\"1\" class=\"dataframe\">\n",
       "  <thead>\n",
       "    <tr style=\"text-align: right;\">\n",
       "      <th></th>\n",
       "      <th>Date</th>\n",
       "      <th>T</th>\n",
       "    </tr>\n",
       "  </thead>\n",
       "  <tbody>\n",
       "    <tr>\n",
       "      <th>0</th>\n",
       "      <td>2018-01-04</td>\n",
       "      <td>-14.075</td>\n",
       "    </tr>\n",
       "    <tr>\n",
       "      <th>1</th>\n",
       "      <td>2018-01-05</td>\n",
       "      <td>-16.8625</td>\n",
       "    </tr>\n",
       "    <tr>\n",
       "      <th>2</th>\n",
       "      <td>2018-01-06</td>\n",
       "      <td>-13.3</td>\n",
       "    </tr>\n",
       "    <tr>\n",
       "      <th>3</th>\n",
       "      <td>2018-01-07</td>\n",
       "      <td>-12.75</td>\n",
       "    </tr>\n",
       "    <tr>\n",
       "      <th>4</th>\n",
       "      <td>2018-01-08</td>\n",
       "      <td>-15.4125</td>\n",
       "    </tr>\n",
       "  </tbody>\n",
       "</table>\n",
       "</div>"
      ],
      "text/plain": [
       "        Date        T\n",
       "0 2018-01-04  -14.075\n",
       "1 2018-01-05 -16.8625\n",
       "2 2018-01-06    -13.3\n",
       "3 2018-01-07   -12.75\n",
       "4 2018-01-08 -15.4125"
      ]
     },
     "execution_count": 29,
     "metadata": {},
     "output_type": "execute_result"
    }
   ],
   "source": [
    "# Grouping by date\n",
    "weather = weather.groupby('Date').agg(T=('T','mean')).reset_index()\n",
    "weather['Date'] = pd.to_datetime(weather['Date'])\n",
    "weather.head()"
   ]
  },
  {
   "cell_type": "code",
   "execution_count": 30,
   "id": "8187580f",
   "metadata": {
    "scrolled": true
   },
   "outputs": [
    {
     "data": {
      "text/html": [
       "<div>\n",
       "<style scoped>\n",
       "    .dataframe tbody tr th:only-of-type {\n",
       "        vertical-align: middle;\n",
       "    }\n",
       "\n",
       "    .dataframe tbody tr th {\n",
       "        vertical-align: top;\n",
       "    }\n",
       "\n",
       "    .dataframe thead th {\n",
       "        text-align: right;\n",
       "    }\n",
       "</style>\n",
       "<table border=\"1\" class=\"dataframe\">\n",
       "  <thead>\n",
       "    <tr style=\"text-align: right;\">\n",
       "      <th></th>\n",
       "      <th>Дата</th>\n",
       "      <th>Daily_sales</th>\n",
       "      <th>Weekday</th>\n",
       "    </tr>\n",
       "  </thead>\n",
       "  <tbody>\n",
       "    <tr>\n",
       "      <th>0</th>\n",
       "      <td>2018-01-04</td>\n",
       "      <td>3734</td>\n",
       "      <td>3</td>\n",
       "    </tr>\n",
       "    <tr>\n",
       "      <th>1</th>\n",
       "      <td>2018-01-05</td>\n",
       "      <td>3643</td>\n",
       "      <td>4</td>\n",
       "    </tr>\n",
       "    <tr>\n",
       "      <th>2</th>\n",
       "      <td>2018-01-06</td>\n",
       "      <td>3193</td>\n",
       "      <td>5</td>\n",
       "    </tr>\n",
       "    <tr>\n",
       "      <th>3</th>\n",
       "      <td>2018-01-07</td>\n",
       "      <td>3298</td>\n",
       "      <td>6</td>\n",
       "    </tr>\n",
       "    <tr>\n",
       "      <th>4</th>\n",
       "      <td>2018-01-09</td>\n",
       "      <td>4055</td>\n",
       "      <td>1</td>\n",
       "    </tr>\n",
       "  </tbody>\n",
       "</table>\n",
       "</div>"
      ],
      "text/plain": [
       "        Дата  Daily_sales  Weekday\n",
       "0 2018-01-04         3734        3\n",
       "1 2018-01-05         3643        4\n",
       "2 2018-01-06         3193        5\n",
       "3 2018-01-07         3298        6\n",
       "4 2018-01-09         4055        1"
      ]
     },
     "execution_count": 30,
     "metadata": {},
     "output_type": "execute_result"
    }
   ],
   "source": [
    "# Revisiting the old dataframe\n",
    "grouped_df.head()"
   ]
  },
  {
   "cell_type": "code",
   "execution_count": 32,
   "id": "3e3d265e",
   "metadata": {},
   "outputs": [
    {
     "data": {
      "text/html": [
       "<div>\n",
       "<style scoped>\n",
       "    .dataframe tbody tr th:only-of-type {\n",
       "        vertical-align: middle;\n",
       "    }\n",
       "\n",
       "    .dataframe tbody tr th {\n",
       "        vertical-align: top;\n",
       "    }\n",
       "\n",
       "    .dataframe thead th {\n",
       "        text-align: right;\n",
       "    }\n",
       "</style>\n",
       "<table border=\"1\" class=\"dataframe\">\n",
       "  <thead>\n",
       "    <tr style=\"text-align: right;\">\n",
       "      <th></th>\n",
       "      <th>Дата</th>\n",
       "      <th>Daily_sales</th>\n",
       "      <th>Weekday</th>\n",
       "      <th>Date</th>\n",
       "      <th>T</th>\n",
       "    </tr>\n",
       "  </thead>\n",
       "  <tbody>\n",
       "    <tr>\n",
       "      <th>0</th>\n",
       "      <td>2018-01-04</td>\n",
       "      <td>3734</td>\n",
       "      <td>3</td>\n",
       "      <td>2018-01-04</td>\n",
       "      <td>-14.075</td>\n",
       "    </tr>\n",
       "    <tr>\n",
       "      <th>1</th>\n",
       "      <td>2018-01-05</td>\n",
       "      <td>3643</td>\n",
       "      <td>4</td>\n",
       "      <td>2018-01-05</td>\n",
       "      <td>-16.8625</td>\n",
       "    </tr>\n",
       "    <tr>\n",
       "      <th>2</th>\n",
       "      <td>2018-01-06</td>\n",
       "      <td>3193</td>\n",
       "      <td>5</td>\n",
       "      <td>2018-01-06</td>\n",
       "      <td>-13.3</td>\n",
       "    </tr>\n",
       "    <tr>\n",
       "      <th>3</th>\n",
       "      <td>2018-01-07</td>\n",
       "      <td>3298</td>\n",
       "      <td>6</td>\n",
       "      <td>2018-01-07</td>\n",
       "      <td>-12.75</td>\n",
       "    </tr>\n",
       "    <tr>\n",
       "      <th>4</th>\n",
       "      <td>2018-01-09</td>\n",
       "      <td>4055</td>\n",
       "      <td>1</td>\n",
       "      <td>2018-01-09</td>\n",
       "      <td>-6.25</td>\n",
       "    </tr>\n",
       "  </tbody>\n",
       "</table>\n",
       "</div>"
      ],
      "text/plain": [
       "        Дата  Daily_sales  Weekday       Date        T\n",
       "0 2018-01-04         3734        3 2018-01-04  -14.075\n",
       "1 2018-01-05         3643        4 2018-01-05 -16.8625\n",
       "2 2018-01-06         3193        5 2018-01-06    -13.3\n",
       "3 2018-01-07         3298        6 2018-01-07   -12.75\n",
       "4 2018-01-09         4055        1 2018-01-09    -6.25"
      ]
     },
     "execution_count": 32,
     "metadata": {},
     "output_type": "execute_result"
    }
   ],
   "source": [
    "# Joining the two dataframes on date\n",
    "fin_df = pd.merge(grouped_df,weather,how='inner',left_on='Дата',right_on='Date')\n",
    "fin_df.head()"
   ]
  },
  {
   "cell_type": "code",
   "execution_count": 33,
   "id": "ef5907fe",
   "metadata": {},
   "outputs": [
    {
     "data": {
      "image/png": "[encoded data removed]",
      "text/plain": [
       "<Figure size 1000x600 with 2 Axes>"
      ]
     },
     "metadata": {},
     "output_type": "display_data"
    }
   ],
   "source": [
    "# Plotting the aforementioned graph\n",
    "fig, ax1 = plt.subplots(figsize=(10, 6))\n",
    "ax1.plot(fin_df['Дата'], fin_df['Daily_sales'], label='Количество продаж', color='b')\n",
    "ax1.set_xlabel('Дата')\n",
    "ax1.set_ylabel('Количество продаж', color='b')\n",
    "ax1.tick_params(axis='y', labelcolor='b')\n",
    "ax2 = ax1.twinx()\n",
    "ax2.plot(fin_df['Дата'], fin_df['T'], label='Температура', color='r')\n",
    "ax2.set_ylabel('Температура', color='r')\n",
    "ax2.tick_params(axis='y', labelcolor='r')\n",
    "plt.title('Продажи и температура по датам')\n",
    "fig.tight_layout()\n",
    "plt.show()"
   ]
  },
  {
   "cell_type": "code",
   "execution_count": 34,
   "id": "49206d8c",
   "metadata": {},
   "outputs": [
    {
     "data": {
      "image/png": "[encoded data removed]",
      "text/plain": [
       "<Figure size 640x480 with 1 Axes>"
      ]
     },
     "metadata": {},
     "output_type": "display_data"
    }
   ],
   "source": [
    "# Plotting the temperature graph separately\n",
    "fin_df.plot(x='Date',y='T');"
   ]
  }
 ],
 "metadata": {
  "kernelspec": {
   "display_name": "Python 3 (ipykernel)",
   "language": "python",
   "name": "python3"
  },
  "language_info": {
   "codemirror_mode": {
    "name": "ipython",
    "version": 3
   },
   "file_extension": ".py",
   "mimetype": "text/x-python",
   "name": "python",
   "nbconvert_exporter": "python",
   "pygments_lexer": "ipython3",
   "version": "3.11.5"
  }
 },
 "nbformat": 4,
 "nbformat_minor": 5
}
