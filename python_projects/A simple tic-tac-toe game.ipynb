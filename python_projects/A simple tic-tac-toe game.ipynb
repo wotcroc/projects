{
 "cells": [
  {
   "cell_type": "markdown",
   "id": "970eeeda",
   "metadata": {},
   "source": [
    "This is a simple tic-tac-toe game written using Python syntaxis and functions."
   ]
  },
  {
   "cell_type": "code",
   "execution_count": 1,
   "id": "0ad84baa",
   "metadata": {},
   "outputs": [],
   "source": [
    "# Defining what is displayed to users\n",
    "def display(board):\n",
    "    for i in range(6,8):\n",
    "        print(board[i], end='')\n",
    "        print('|', end='')\n",
    "    print(board[8])\n",
    "    for i in range(3,5):\n",
    "        print(board[i], end='')\n",
    "        print('|', end='')\n",
    "    print(board[5])\n",
    "    for i in range(2):\n",
    "        print(board[i], end='')\n",
    "        print('|', end='')\n",
    "    print(board[2])"
   ]
  },
  {
   "cell_type": "code",
   "execution_count": 2,
   "id": "1336eba7",
   "metadata": {},
   "outputs": [],
   "source": [
    "# Defining a prompt for players to choose sides\n",
    "def side():\n",
    "    accept = ['x','o']\n",
    "    choice = 'a'\n",
    "    while choice not in accept:\n",
    "        choice = input('Player 1 chooses side (x or o) ')\n",
    "    if choice == 'x':\n",
    "        print('Player 1 will go first')\n",
    "    else:\n",
    "        print('Player 2 will go first')\n",
    "    return choice"
   ]
  },
  {
   "cell_type": "code",
   "execution_count": 3,
   "id": "f0d9c691",
   "metadata": {},
   "outputs": [],
   "source": [
    "# Asking if players are ready to go for another game\n",
    "def ready():\n",
    "    accept = ['yes','no']\n",
    "    choice = 'a'\n",
    "    while choice not in accept:\n",
    "        try:\n",
    "            choice = input('Are you ready to play another one? yes/no ')\n",
    "            if choice not in accept:\n",
    "                print('Please enter a valid answer')\n",
    "        except:\n",
    "            print('Please enter a valid answer')\n",
    "    if choice == 'yes':\n",
    "        return True\n",
    "    return False"
   ]
  },
  {
   "cell_type": "code",
   "execution_count": 10,
   "id": "78859e3a",
   "metadata": {},
   "outputs": [],
   "source": [
    "# Prompt for players to choose where to put a mark\n",
    "def position(board):\n",
    "    pos = 'a'\n",
    "    accept = range(1,10)\n",
    "    while pos not in accept:\n",
    "        try:\n",
    "            pos = int(input('Choose position from 1 to 9 '))\n",
    "        except:\n",
    "            print('Please enter a number')\n",
    "        if pos in accept:\n",
    "            if board[pos-1] not in 'xo':\n",
    "                return pos\n",
    "            else:\n",
    "                print('The position has already been used')\n",
    "                pos = 'a'\n",
    "        else:\n",
    "            print('Enter a suitable position')  "
   ]
  },
  {
   "cell_type": "code",
   "execution_count": 5,
   "id": "a617d601",
   "metadata": {},
   "outputs": [],
   "source": [
    "# Function that checks whether player 1 chose the side 'x'\n",
    "def p1_x():\n",
    "    choice = side()\n",
    "    if choice == 'x':\n",
    "        return True\n",
    "    else:\n",
    "        return False "
   ]
  },
  {
   "cell_type": "code",
   "execution_count": 6,
   "id": "fb4f67ac",
   "metadata": {},
   "outputs": [],
   "source": [
    "# Function that puts a mark on the board\n",
    "def put_pos(board, pos, t1):\n",
    "    if t1: #t1 here refers to turn 1\n",
    "        board[pos-1] = 'x'\n",
    "    else:\n",
    "        board[pos-1] = 'o'\n",
    "    return board"
   ]
  },
  {
   "cell_type": "code",
   "execution_count": 7,
   "id": "83f27f34",
   "metadata": {},
   "outputs": [],
   "source": [
    "# Function to check if the game is still on\n",
    "# Checks various winning conditions\n",
    "def game_on(board):\n",
    "    for i in range(len(board)):\n",
    "        if i == 0 or i == 3 or i ==6:\n",
    "            if board[i]==board[i+1]==board[i+2]:\n",
    "                return False\n",
    "        if i == 0 or i == 1 or i == 2:\n",
    "            if board[i]==board[i+3]==board[i+6]:\n",
    "                return False\n",
    "        if i == 0 and board[i]==board[i+4]==board[i+8]:\n",
    "            return False\n",
    "        if i == 2 and board[i]==board[i+2]==board[i+4]:\n",
    "            return False\n",
    "    else:\n",
    "        return True"
   ]
  },
  {
   "cell_type": "code",
   "execution_count": 8,
   "id": "b392853d",
   "metadata": {},
   "outputs": [],
   "source": [
    "# Function to check if all the positions on the board have been used and there is a draw\n",
    "def is_draw(board):\n",
    "    a = []\n",
    "    for item in board:\n",
    "        if not item.isdigit():\n",
    "            a.append(item)\n",
    "    if len(a) == 9:\n",
    "        return True\n",
    "    return False"
   ]
  },
  {
   "cell_type": "code",
   "execution_count": 11,
   "id": "027529f1",
   "metadata": {},
   "outputs": [
    {
     "name": "stdout",
     "output_type": "stream",
     "text": [
      "o|o|x\n",
      "x|x|o\n",
      "o|x|x\n",
      "Draw\n",
      "Are you ready to play another one? yes/no no\n"
     ]
    }
   ],
   "source": [
    "# The game logic here\n",
    "from IPython.display import clear_output\n",
    "while True:\n",
    "    clear_output()\n",
    "    test_board = ['1','2','3','4','5','6','7','8','9']\n",
    "    t1 = True # Turn 1 is set true\n",
    "    p1 = p1_x() # Player 1 makes a choice\n",
    "    while game_on(test_board) and not is_draw(test_board):\n",
    "        clear_output()\n",
    "        display(test_board)\n",
    "        if p1:\n",
    "            print('Player 1 turn')\n",
    "        else:\n",
    "            print('Player 2 turn')\n",
    "        pos = position(test_board)\n",
    "        test_board = put_pos(test_board, pos, t1)\n",
    "        if not game_on(test_board):\n",
    "            clear_output()\n",
    "            display(test_board)\n",
    "            if p1:\n",
    "                print('Congrats! Player 1 won')\n",
    "            else:\n",
    "                print('Congrats! Player 2 won')\n",
    "        elif is_draw(test_board):\n",
    "            clear_output()\n",
    "            display(test_board)\n",
    "            print('Draw')\n",
    "        else: # The game is on and we have to change turns\n",
    "            p1 = not p1\n",
    "            t1 = not t1\n",
    "    if not ready():\n",
    "        break"
   ]
  }
 ],
 "metadata": {
  "kernelspec": {
   "display_name": "Python 3 (ipykernel)",
   "language": "python",
   "name": "python3"
  },
  "language_info": {
   "codemirror_mode": {
    "name": "ipython",
    "version": 3
   },
   "file_extension": ".py",
   "mimetype": "text/x-python",
   "name": "python",
   "nbconvert_exporter": "python",
   "pygments_lexer": "ipython3",
   "version": "3.11.5"
  }
 },
 "nbformat": 4,
 "nbformat_minor": 5
}
